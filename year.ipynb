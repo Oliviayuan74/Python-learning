{
 "cells": [
  {
   "cell_type": "code",
   "execution_count": 1,
   "metadata": {},
   "outputs": [],
   "source": [
    "def is_leap_year(year):\n",
    "    # a mod 4 = 0\n",
    "    if year % 400 == 0 or (year % 4 == 0 and not year % 100 == 0):\n",
    "        print('{} is a Leap Year.'.format(year))\n",
    "    else:\n",
    "        print('{} is not a Leap Year.'.format(year))\n",
    "    \n",
    "\n",
    "# consider how to write a program with most 'logic' efficiency\n",
    "def is_leap_year_plus(year):\n",
    "    ..."
   ]
  },
  {
   "cell_type": "code",
   "execution_count": 2,
   "metadata": {},
   "outputs": [
    {
     "name": "stdout",
     "output_type": "stream",
     "text": [
      "2019 is not a Leap Year.\n"
     ]
    }
   ],
   "source": [
    "is_leap_year(2019)"
   ]
  }
 ],
 "metadata": {
  "kernelspec": {
   "display_name": "Python 3",
   "language": "python",
   "name": "python3"
  },
  "language_info": {
   "codemirror_mode": {
    "name": "ipython",
    "version": 3
   },
   "file_extension": ".py",
   "mimetype": "text/x-python",
   "name": "python",
   "nbconvert_exporter": "python",
   "pygments_lexer": "ipython3",
   "version": "3.6.8"
  }
 },
 "nbformat": 4,
 "nbformat_minor": 2
}
