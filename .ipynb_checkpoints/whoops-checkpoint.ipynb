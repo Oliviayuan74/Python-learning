{
 "cells": [
  {
   "cell_type": "markdown",
   "metadata": {},
   "source": [
    "# For loop, While loop, do While loop"
   ]
  },
  {
   "cell_type": "code",
   "execution_count": 1,
   "metadata": {},
   "outputs": [
    {
     "name": "stdout",
     "output_type": "stream",
     "text": [
      "0\n",
      "1\n",
      "2\n",
      "3\n",
      "4\n",
      "---------------\n",
      "10\n",
      "12\n",
      "14\n"
     ]
    }
   ],
   "source": [
    "# for-loop example\n",
    "# range() is a built-in method\n",
    "# range(start (optional), stop (required), step (optional))\n",
    "# start is inclusive, stop is exclusive\n",
    "for i in range(5):\n",
    "    print(i)\n",
    "\n",
    "print('---------------')\n",
    "\n",
    "for i in range(10, 15, 2):\n",
    "    print(i)"
   ]
  },
  {
   "cell_type": "code",
   "execution_count": 2,
   "metadata": {},
   "outputs": [
    {
     "name": "stdout",
     "output_type": "stream",
     "text": [
      "2000 is a Leap Year.\n",
      "2004 is a Leap Year.\n",
      "2012 is a Leap Year.\n",
      "1803 is not a Leap Year.\n",
      "3\n"
     ]
    }
   ],
   "source": [
    "def is_leap_year(year):\n",
    "    # a mod 4 = 0\n",
    "    if year % 400 == 0 or (year % 4 == 0 and not year % 100 == 0):\n",
    "        print('{} is a Leap Year.'.format(year))\n",
    "        return True\n",
    "    else:\n",
    "        print('{} is not a Leap Year.'.format(year))\n",
    "        return False\n",
    "\n",
    "\"\"\"\n",
    "while <condition>:\n",
    "    do something\n",
    "\n",
    "# the loop will be broken if the condition fails\n",
    "\"\"\" \n",
    "years = [2000, 2004, 2012, 1803, 2019]\n",
    "\n",
    "i = 0\n",
    "while is_leap_year(years[i]):\n",
    "    i += 1  # i = i + 1\n",
    "print(i)"
   ]
  },
  {
   "cell_type": "code",
   "execution_count": 3,
   "metadata": {},
   "outputs": [
    {
     "data": {
      "text/plain": [
       "'\\ndo-while-loop is not built-in in python, it just reverses the order of do and condition as in while-loop\\n'"
      ]
     },
     "execution_count": 3,
     "metadata": {},
     "output_type": "execute_result"
    }
   ],
   "source": [
    "\"\"\"\n",
    "do-while-loop is not built-in in python, it just reverses the order of do and condition as in while-loop\n",
    "\"\"\" \n",
    "# Please implement a do-while version of the above while\n"
   ]
  },
  {
   "cell_type": "code",
   "execution_count": 4,
   "metadata": {},
   "outputs": [],
   "source": [
    "# return True if all years are leap years\n",
    "def is_leap_year_all(years):\n",
    "    ..."
   ]
  },
  {
   "cell_type": "code",
   "execution_count": 5,
   "metadata": {},
   "outputs": [],
   "source": [
    "# return True if one of the years is a leap year\n",
    "# arg: years (list)\n",
    "def is_leap_year_or(years):\n",
    "    ..."
   ]
  }
 ],
 "metadata": {
  "kernelspec": {
   "display_name": "Python 3",
   "language": "python",
   "name": "python3"
  },
  "language_info": {
   "codemirror_mode": {
    "name": "ipython",
    "version": 3
   },
   "file_extension": ".py",
   "mimetype": "text/x-python",
   "name": "python",
   "nbconvert_exporter": "python",
   "pygments_lexer": "ipython3",
   "version": "3.6.8"
  }
 },
 "nbformat": 4,
 "nbformat_minor": 2
}
