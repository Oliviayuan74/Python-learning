{
 "cells": [
  {
   "cell_type": "code",
   "execution_count": 1,
   "metadata": {},
   "outputs": [
    {
     "data": {
      "text/plain": [
       "3"
      ]
     },
     "execution_count": 1,
     "metadata": {},
     "output_type": "execute_result"
    }
   ],
   "source": [
    "def plus(arg1, arg2):\n",
    "    return arg1 + arg2\n",
    "\n",
    "plus(1, 2)"
   ]
  },
  {
   "cell_type": "code",
   "execution_count": 2,
   "metadata": {},
   "outputs": [],
   "source": [
    "class Animal:\n",
    "    \n",
    "    def __init__(self, category, enhale_method, habitant):\n",
    "        self.category = category\n",
    "        self.enhale_method = enhale_method\n",
    "        self.habitant = habitant\n",
    "        \n",
    "    def bark(self):\n",
    "        print(self.habitant)"
   ]
  },
  {
   "cell_type": "code",
   "execution_count": 3,
   "metadata": {},
   "outputs": [
    {
     "name": "stdout",
     "output_type": "stream",
     "text": [
      "Edin\n"
     ]
    }
   ],
   "source": [
    "a = Animal('Dog', 'UNK', 'Edin')\n",
    "a.bark()"
   ]
  },
  {
   "cell_type": "code",
   "execution_count": 4,
   "metadata": {},
   "outputs": [],
   "source": [
    "class Year:\n",
    "    \n",
    "    def __init__(self, year, BC):\n",
    "        self.year = year\n",
    "        self.BC = BC\n",
    "        \n",
    "    def is_leap_year(self):\n",
    "        # a mod 4 = 0\n",
    "        if self.year % 400 == 0 or (self.year % 4 == 0 and not self.year % 100 == 0):\n",
    "            print('{} is a Leap Year.'.format(self.year))\n",
    "        else:\n",
    "            print('{} is not a Leap Year.'.format(self.year))\n",
    "\n",
    "# build a Year instance, init with attributes year=2000, BC=False\n",
    "y = Year(2000, False)"
   ]
  },
  {
   "cell_type": "code",
   "execution_count": 5,
   "metadata": {},
   "outputs": [
    {
     "name": "stdout",
     "output_type": "stream",
     "text": [
      "2000 is a Leap Year.\n"
     ]
    }
   ],
   "source": [
    "# invoke instance method is_leap_year() to determine whether or not y.year is a leap year\n",
    "y.is_leap_year()"
   ]
  }
 ],
 "metadata": {
  "kernelspec": {
   "display_name": "Python 3",
   "language": "python",
   "name": "python3"
  },
  "language_info": {
   "codemirror_mode": {
    "name": "ipython",
    "version": 3
   },
   "file_extension": ".py",
   "mimetype": "text/x-python",
   "name": "python",
   "nbconvert_exporter": "python",
   "pygments_lexer": "ipython3",
   "version": "3.6.8"
  }
 },
 "nbformat": 4,
 "nbformat_minor": 2
}
